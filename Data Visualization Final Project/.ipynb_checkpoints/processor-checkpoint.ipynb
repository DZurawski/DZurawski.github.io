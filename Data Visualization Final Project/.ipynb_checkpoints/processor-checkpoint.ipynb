{
 "cells": [
  {
   "cell_type": "code",
   "execution_count": null,
   "metadata": {},
   "outputs": [],
   "source": [
    "import numpy as np\n",
    "import pandas as pd"
   ]
  },
  {
   "cell_type": "code",
   "execution_count": null,
   "metadata": {},
   "outputs": [],
   "source": [
    "castling = pd.read_csv(\"../Create A Dashboard Assignment/castling.csv\")\n",
    "castling.head()"
   ]
  },
  {
   "cell_type": "code",
   "execution_count": null,
   "metadata": {
    "scrolled": true
   },
   "outputs": [],
   "source": [
    "elo = castling[\"WhiteElo\"].round(-2)\n",
    "castled = castling[\"WhiteCastled\"]\n",
    "frame = pd.concat([elo, castled], axis=1)\n",
    "frame = frame.groupby(\"WhiteElo\", as_index=False).mean()\n",
    "frame.columns = [\"elo\", \"castle\"]\n",
    "frame[\"elo\"] = frame[\"elo\"].astype(int)\n",
    "frame[\"castle\"] = frame[\"castle\"].round(4)\n",
    "frame = frame.drop([0, 1, 22])\n",
    "frame.to_csv(\"white_castle.csv\", index=False)"
   ]
  },
  {
   "cell_type": "code",
   "execution_count": null,
   "metadata": {},
   "outputs": [],
   "source": [
    "elo = castling[\"BlackElo\"].round(-2)\n",
    "castled = castling[\"BlackCastled\"]\n",
    "frame = pd.concat([elo, castled], axis=1)\n",
    "frame = frame.groupby(\"BlackElo\", as_index=False).mean()\n",
    "frame.columns = [\"elo\", \"castle\"]\n",
    "frame[\"elo\"] = frame[\"elo\"].astype(int)\n",
    "frame[\"castle\"] = frame[\"castle\"].round(4)\n",
    "frame = frame.drop([0, 1])\n",
    "frame\n",
    "frame.to_csv(\"black_castle.csv\", index=False)"
   ]
  },
  {
   "cell_type": "code",
   "execution_count": null,
   "metadata": {},
   "outputs": [],
   "source": [
    "frame = castling[[\"WhiteScore\", \"WhiteMovesBeforeCastle\", \"BlackMovesBeforeCastle\"]]\n",
    "frame.columns = [\"ws\", \"wm\", \"bm\",]\n",
    "frame = frame[\n",
    "    (((4 <= frame[\"wm\"]) & (frame[\"wm\"] <= 15)) | (frame[\"wm\"] == 0))\n",
    "    & (((4 <= frame[\"bm\"]) & (frame[\"bm\"] <= 15)) | (frame[\"bm\"] == 0))\n",
    "]\n",
    "array = np.zeros(shape=(13, 13, 6))\n",
    "for w in range(13):\n",
    "    for b in range(13):\n",
    "        wm = w + 4 if w < 12 else 0\n",
    "        bm = b + 4 if b < 12 else 0\n",
    "        data = frame[(frame[\"wm\"] == wm) & (frame[\"bm\"] == bm)]\n",
    "        array[w, b, 0] = wm\n",
    "        array[w, b, 1] = bm\n",
    "        array[w, b, 2] = sum(data[\"ws\"] == 0) / len(data)\n",
    "        array[w, b, 3] = sum(data[\"ws\"] == 0.5) / len(data)\n",
    "        array[w, b, 4] = sum(data[\"ws\"] == 1) / len(data)\n",
    "        array[w, b, 5] = sum(data[\"ws\"] / len(data))\n",
    "array = array.round(4).reshape(13 * 13, 6)\n",
    "complete = pd.DataFrame(array, columns=[\"wm\", \"bm\", \"wloss\", \"wdraw\", \"wwin\", \"wavg\"])\n",
    "complete.to_csv(\"moves_before_castle.csv\", index=False)\n",
    "complete"
   ]
  }
 ],
 "metadata": {
  "kernelspec": {
   "display_name": "Python 3",
   "language": "python",
   "name": "python3"
  },
  "language_info": {
   "codemirror_mode": {
    "name": "ipython",
    "version": 3
   },
   "file_extension": ".py",
   "mimetype": "text/x-python",
   "name": "python",
   "nbconvert_exporter": "python",
   "pygments_lexer": "ipython3",
   "version": "3.6.5"
  }
 },
 "nbformat": 4,
 "nbformat_minor": 2
}
